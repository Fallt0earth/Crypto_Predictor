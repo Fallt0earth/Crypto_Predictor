{
 "cells": [
  {
   "cell_type": "code",
   "execution_count": 132,
   "id": "efbb2966",
   "metadata": {
    "scrolled": true
   },
   "outputs": [],
   "source": [
    "import pandas as pd\n",
    "\n",
    "df = pd.read_csv(\"gemini_BTCUSD_2021_1min.csv\")"
   ]
  },
  {
   "cell_type": "code",
   "execution_count": 133,
   "id": "56c019ab",
   "metadata": {},
   "outputs": [
    {
     "data": {
      "text/html": [
       "<div>\n",
       "<style scoped>\n",
       "    .dataframe tbody tr th:only-of-type {\n",
       "        vertical-align: middle;\n",
       "    }\n",
       "\n",
       "    .dataframe tbody tr th {\n",
       "        vertical-align: top;\n",
       "    }\n",
       "\n",
       "    .dataframe thead th {\n",
       "        text-align: right;\n",
       "    }\n",
       "</style>\n",
       "<table border=\"1\" class=\"dataframe\">\n",
       "  <thead>\n",
       "    <tr style=\"text-align: right;\">\n",
       "      <th></th>\n",
       "      <th>Unix Timestamp</th>\n",
       "      <th>Date</th>\n",
       "      <th>Open</th>\n",
       "      <th>High</th>\n",
       "      <th>Low</th>\n",
       "      <th>Close</th>\n",
       "      <th>Volume</th>\n",
       "    </tr>\n",
       "  </thead>\n",
       "  <tbody>\n",
       "    <tr>\n",
       "      <th>0</th>\n",
       "      <td>1.643330e+12</td>\n",
       "      <td>1/28/2022 0:05</td>\n",
       "      <td>37303.25</td>\n",
       "      <td>37320.35</td>\n",
       "      <td>37303.25</td>\n",
       "      <td>37320.35</td>\n",
       "      <td>0.000022</td>\n",
       "    </tr>\n",
       "    <tr>\n",
       "      <th>1</th>\n",
       "      <td>1.643330e+12</td>\n",
       "      <td>1/28/2022 0:04</td>\n",
       "      <td>37144.20</td>\n",
       "      <td>37343.74</td>\n",
       "      <td>37144.20</td>\n",
       "      <td>37303.25</td>\n",
       "      <td>4.265912</td>\n",
       "    </tr>\n",
       "    <tr>\n",
       "      <th>2</th>\n",
       "      <td>1.643330e+12</td>\n",
       "      <td>1/28/2022 0:03</td>\n",
       "      <td>37173.42</td>\n",
       "      <td>37173.42</td>\n",
       "      <td>37128.97</td>\n",
       "      <td>37144.20</td>\n",
       "      <td>0.664541</td>\n",
       "    </tr>\n",
       "    <tr>\n",
       "      <th>3</th>\n",
       "      <td>1.643330e+12</td>\n",
       "      <td>1/28/2022 0:02</td>\n",
       "      <td>37105.20</td>\n",
       "      <td>37194.73</td>\n",
       "      <td>37105.20</td>\n",
       "      <td>37173.42</td>\n",
       "      <td>1.419849</td>\n",
       "    </tr>\n",
       "    <tr>\n",
       "      <th>4</th>\n",
       "      <td>1.643330e+12</td>\n",
       "      <td>1/28/2022 0:01</td>\n",
       "      <td>37141.74</td>\n",
       "      <td>37154.38</td>\n",
       "      <td>37105.20</td>\n",
       "      <td>37105.20</td>\n",
       "      <td>4.741223</td>\n",
       "    </tr>\n",
       "  </tbody>\n",
       "</table>\n",
       "</div>"
      ],
      "text/plain": [
       "   Unix Timestamp            Date      Open      High       Low     Close  \\\n",
       "0    1.643330e+12  1/28/2022 0:05  37303.25  37320.35  37303.25  37320.35   \n",
       "1    1.643330e+12  1/28/2022 0:04  37144.20  37343.74  37144.20  37303.25   \n",
       "2    1.643330e+12  1/28/2022 0:03  37173.42  37173.42  37128.97  37144.20   \n",
       "3    1.643330e+12  1/28/2022 0:02  37105.20  37194.73  37105.20  37173.42   \n",
       "4    1.643330e+12  1/28/2022 0:01  37141.74  37154.38  37105.20  37105.20   \n",
       "\n",
       "     Volume  \n",
       "0  0.000022  \n",
       "1  4.265912  \n",
       "2  0.664541  \n",
       "3  1.419849  \n",
       "4  4.741223  "
      ]
     },
     "execution_count": 133,
     "metadata": {},
     "output_type": "execute_result"
    }
   ],
   "source": [
    "df.head()"
   ]
  },
  {
   "cell_type": "code",
   "execution_count": 134,
   "id": "fc14f36e",
   "metadata": {},
   "outputs": [
    {
     "name": "stdout",
     "output_type": "stream",
     "text": [
      "3940181\n",
      "1643330000000.0\n",
      "0.20368409437454882\n",
      "0.20261833859215816\n",
      "0.20365150768514062\n",
      "0.20190717474217346\n",
      "-0.00136448628179342\n",
      "0.20368409437454882\n"
     ]
    }
   ],
   "source": [
    "import numpy as np\n",
    "#(max'-min')/(max-min)*(value-max)+max'\n",
    "\n",
    "\n",
    "data = df.to_numpy(na_value=35000)\n",
    "\n",
    "print(data.size)\n",
    "print(data[0][0])\n",
    "max_iter = 562883\n",
    "for k in range(2, 7):\n",
    "    max_val = -1\n",
    "    min_val = 9999999\n",
    "    for i in range(max_iter):\n",
    "        val = data[i - 1][k]\n",
    "        if val > max_val:\n",
    "            max_val = val\n",
    "        if val < max_val:\n",
    "            min_val = val\n",
    "    for i in range(max_iter):\n",
    "        data[i][k] = float(1/(max_val - min_val) * (data[i][k] - max_val) + 1)\n",
    "    print(data[2][k])\n",
    "    \n",
    "print(data[2][2])"
   ]
  },
  {
   "cell_type": "code",
   "execution_count": 135,
   "id": "b6bb0fc5",
   "metadata": {},
   "outputs": [],
   "source": [
    "\n",
    "data = np.delete(data, 0, axis=1)\n",
    "data = np.delete(data, 0, axis=1)\n"
   ]
  },
  {
   "cell_type": "code",
   "execution_count": 136,
   "id": "d210364e",
   "metadata": {},
   "outputs": [],
   "source": [
    "data = data[0:10000]"
   ]
  },
  {
   "cell_type": "code",
   "execution_count": 137,
   "id": "903deff9",
   "metadata": {},
   "outputs": [],
   "source": [
    "data_c = data[:, 4]\n",
    "data = np.delete(data, 4, axis=1)"
   ]
  },
  {
   "cell_type": "code",
   "execution_count": 138,
   "id": "0ca6fe40",
   "metadata": {},
   "outputs": [
    {
     "name": "stdout",
     "output_type": "stream",
     "text": [
      "[0.20370311060490143 0.20401434489172432 0.2047887520221241\n",
      " 0.2040352772959717]\n",
      "0.20688552798451465\n"
     ]
    },
    {
     "data": {
      "text/plain": [
       "torch.Size([10000])"
      ]
     },
     "execution_count": 138,
     "metadata": {},
     "output_type": "execute_result"
    }
   ],
   "source": [
    "import torch\n",
    "#print(type(data[2][4]))\n",
    "\n",
    "print(data[10])\n",
    "print(data[1][1])\n",
    "d_t = torch.from_numpy(data.astype(np.float32))\n",
    "d_c = torch.from_numpy(data_c.astype(np.float32))\n",
    "d_c.shape"
   ]
  },
  {
   "cell_type": "code",
   "execution_count": 139,
   "id": "abd814f4",
   "metadata": {},
   "outputs": [],
   "source": [
    "n_samples = d_t.shape[0]\n",
    "n_val = int(.2 * n_samples)\n",
    "shuffled_indices = torch.randperm(n_samples).numpy()\n",
    "train_indices = shuffled_indices[:-n_val]\n",
    "val_indices = shuffled_indices[-n_val:]"
   ]
  },
  {
   "cell_type": "code",
   "execution_count": 140,
   "id": "014e9112",
   "metadata": {},
   "outputs": [],
   "source": [
    "train_d = d_t[train_indices]\n",
    "train_d_c = d_c[train_indices]\n",
    "seq_length = 4\n",
    "val_d = d_t[val_indices]\n",
    "val_d_c = d_c[val_indices]"
   ]
  },
  {
   "cell_type": "code",
   "execution_count": 141,
   "id": "f00d4ec6",
   "metadata": {},
   "outputs": [],
   "source": [
    "from torch.utils.data import Dataset\n",
    "\n",
    "class SequenceDataset(Dataset):\n",
    "    def __init__(self, dataframe, target, features, sequence_length=5):\n",
    "       # self.features = features\n",
    "        #self.target = target\n",
    "        self.sequence_length = sequence_length\n",
    "        self.y = target\n",
    "        self.X = features\n",
    "\n",
    "    def __len__(self):\n",
    "        return self.X.shape[0]\n",
    "\n",
    "    def __getitem__(self, i): \n",
    "        if i >= self.sequence_length - 1:\n",
    "            i_start = i - self.sequence_length + 1\n",
    "            x = self.X[i_start:(i + 1), :]\n",
    "        else:\n",
    "            padding = self.X[0].repeat(self.sequence_length - i - 1, 1)\n",
    "            x = self.X[0:(i + 1), :]\n",
    "            x = torch.cat((padding, x), 0)\n",
    "\n",
    "        return x, self.y[i]\n",
    "\n",
    "    "
   ]
  },
  {
   "cell_type": "code",
   "execution_count": 142,
   "id": "d7ce5bab",
   "metadata": {},
   "outputs": [
    {
     "name": "stdout",
     "output_type": "stream",
     "text": [
      "tensor([[0.1852, 0.1854, 0.1855, 0.1835],\n",
      "        [0.1852, 0.1854, 0.1855, 0.1835],\n",
      "        [0.1852, 0.1854, 0.1855, 0.1835],\n",
      "        ...,\n",
      "        [0.1766, 0.1769, 0.1776, 0.1766],\n",
      "        [0.1847, 0.1843, 0.1846, 0.1840],\n",
      "        [0.1684, 0.1684, 0.1692, 0.1676]])\n"
     ]
    }
   ],
   "source": [
    "i = 27\n",
    "sequence_length = 600\n",
    "\n",
    "train_dataset = SequenceDataset(\n",
    "    train_d,\n",
    "    target=train_d_c,\n",
    "    features=train_d,\n",
    "    sequence_length=sequence_length\n",
    ")\n",
    "test_dataset = SequenceDataset(\n",
    "    val_d,\n",
    "    target=val_d_c,\n",
    "    features=val_d,\n",
    "    sequence_length=sequence_length\n",
    ")\n",
    "X, y = train_dataset[i]\n",
    "print(X)"
   ]
  },
  {
   "cell_type": "code",
   "execution_count": 143,
   "id": "ab62da01",
   "metadata": {},
   "outputs": [],
   "source": [
    "from torch.utils.data import DataLoader\n",
    "torch.manual_seed(99)\n",
    "\n",
    "train_loader = DataLoader(train_dataset, batch_size=128, shuffle=True)\n",
    "test_loader = DataLoader(test_dataset, batch_size=128, shuffle=False)"
   ]
  },
  {
   "cell_type": "code",
   "execution_count": 147,
   "id": "24030462",
   "metadata": {},
   "outputs": [],
   "source": [
    "from torch import nn\n",
    "\n",
    "class ShallowRegressionLSTM(nn.Module):\n",
    "    def __init__(self, num_sensors, hidden_units):\n",
    "        super().__init__()\n",
    "        self.num_sensors = num_sensors  # this is the number of features\n",
    "        self.hidden_units = hidden_units\n",
    "        self.num_layers = 1\n",
    "\n",
    "        self.lstm = nn.LSTM(\n",
    "            input_size=num_sensors,\n",
    "            hidden_size=hidden_units,\n",
    "            batch_first=True,\n",
    "            num_layers=self.num_layers\n",
    "        )\n",
    "\n",
    "        self.linear = nn.Linear(in_features=self.hidden_units, out_features=1)\n",
    "\n",
    "    def forward(self, x):\n",
    "        batch_size = x.shape[0]\n",
    "        h0 = torch.zeros(self.num_layers, batch_size, self.hidden_units).requires_grad_()\n",
    "        c0 = torch.zeros(self.num_layers, batch_size, self.hidden_units).requires_grad_()\n",
    "\n",
    "        _, (hn, _) = self.lstm(x, (h0, c0))\n",
    "        out = self.linear(hn[0]).flatten()  # First dim of Hn is num_layers, which is set to 1 above.\n",
    "\n",
    "        return out"
   ]
  },
  {
   "cell_type": "code",
   "execution_count": 157,
   "id": "91c26318",
   "metadata": {},
   "outputs": [],
   "source": [
    "learning_rate = 5e-2\n",
    "num_hidden_units = 16\n",
    "\n",
    "model = ShallowRegressionLSTM(num_sensors=4, hidden_units=num_hidden_units)\n",
    "loss_function = nn.MSELoss()\n",
    "optimizer = torch.optim.Adam(model.parameters(), lr=learning_rate)"
   ]
  },
  {
   "cell_type": "code",
   "execution_count": 158,
   "id": "9d98614f",
   "metadata": {},
   "outputs": [
    {
     "name": "stdout",
     "output_type": "stream",
     "text": [
      "True\n",
      "Epoch: 0, Loss: 0.007599\n",
      "Epoch: 1, Loss: 0.008078\n",
      "Epoch: 2, Loss: 0.007421\n",
      "Epoch: 3, Loss: 0.007417\n",
      "Epoch: 4, Loss: 0.007515\n",
      "Epoch: 5, Loss: 0.007367\n",
      "Epoch: 6, Loss: 0.007318\n",
      "Epoch: 7, Loss: 0.007374\n",
      "Epoch: 8, Loss: 0.007444\n",
      "Epoch: 9, Loss: 0.007536\n",
      "Epoch: 10, Loss: 0.007559\n",
      "Epoch: 11, Loss: 0.007605\n",
      "Epoch: 12, Loss: 0.007349\n",
      "Epoch: 13, Loss: 0.007310\n",
      "Epoch: 14, Loss: 0.007726\n",
      "Epoch: 15, Loss: 0.007305\n",
      "Epoch: 16, Loss: 0.007439\n",
      "Epoch: 17, Loss: 0.007550\n",
      "Epoch: 18, Loss: 0.007551\n",
      "Epoch: 19, Loss: 0.007339\n",
      "Epoch: 20, Loss: 0.007320\n",
      "Epoch: 21, Loss: 0.007455\n",
      "Epoch: 22, Loss: 0.007361\n",
      "Epoch: 23, Loss: 0.007516\n",
      "Epoch: 24, Loss: 0.007514\n",
      "Epoch: 25, Loss: 0.007588\n",
      "Epoch: 26, Loss: 0.006949\n",
      "Epoch: 27, Loss: 0.007345\n",
      "Epoch: 28, Loss: 0.007319\n",
      "Epoch: 29, Loss: 0.007346\n",
      "Epoch: 30, Loss: 0.007588\n",
      "Epoch: 31, Loss: 0.007662\n",
      "Epoch: 32, Loss: 0.007526\n",
      "Epoch: 33, Loss: 0.007376\n",
      "Epoch: 34, Loss: 0.007536\n",
      "Epoch: 35, Loss: 0.007509\n",
      "Epoch: 36, Loss: 0.007304\n",
      "Epoch: 37, Loss: 0.007562\n",
      "Epoch: 38, Loss: 0.007241\n",
      "Epoch: 39, Loss: 0.007504\n",
      "Epoch: 40, Loss: 0.007541\n",
      "Epoch: 41, Loss: 0.007424\n",
      "Epoch: 42, Loss: 0.007364\n",
      "Epoch: 43, Loss: 0.007517\n",
      "Epoch: 44, Loss: 0.007383\n",
      "Epoch: 45, Loss: 0.007607\n",
      "Epoch: 46, Loss: 0.007425\n",
      "Epoch: 47, Loss: 0.007613\n",
      "Epoch: 48, Loss: 0.007246\n",
      "Epoch: 49, Loss: 0.007515\n",
      "21.419614553451538\n"
     ]
    }
   ],
   "source": [
    "import torch.nn as nn\n",
    "import torch.optim as optim\n",
    "print(torch.cuda.is_available())\n",
    "import time\n",
    "device = torch.device('cuda:0')\n",
    "kwargs = {'num_workers': 1, 'pin_memory': True}\n",
    "#train_loader = torch.utils.data.DataLoader(transformed_cifar10, batch_size=64, shuffle=True, **kwargs)\n",
    "model = nn.Sequential(nn.Linear(4, 512), nn.Tanh(), nn.Linear(512, 256), nn.Tanh(), nn.Linear(256, 1))\n",
    "model.to(device)\n",
    "#transformed_cifar10.to(device)\n",
    "loss_fn = nn.MSELoss()\n",
    "#learning_rate = 1e-2\n",
    "#optimizer = optim.SGD(model.parameters(), lr=learning_rate)\n",
    "n_epochs = 50\n",
    "\n",
    "start = time.time()\n",
    "\n",
    "for epoch in range(n_epochs):\n",
    "    for X, y in train_loader:\n",
    "        train_d = X.to(device)\n",
    "        train_d_c = y.to(device)\n",
    "\n",
    "        outputs = model(train_d)\n",
    "        loss = loss_fn(outputs, train_d_c)\n",
    "\n",
    "        \n",
    "        optimizer.zero_grad()\n",
    "        loss.backward()\n",
    "        optimizer.step()\n",
    "    print(\"Epoch: %d, Loss: %f\" % (epoch, float(loss)))\n",
    "end = time.time()\n",
    "print(end - start)"
   ]
  },
  {
   "cell_type": "code",
   "execution_count": 159,
   "id": "35e717fa",
   "metadata": {},
   "outputs": [
    {
     "name": "stdout",
     "output_type": "stream",
     "text": [
      "tensor([[0.0881],\n",
      "        [0.0962],\n",
      "        [0.0851],\n",
      "        [0.0866],\n",
      "        [0.0839],\n",
      "        [0.0965],\n",
      "        [0.0842],\n",
      "        [0.1005],\n",
      "        [0.0821],\n",
      "        [0.0943],\n",
      "        [0.0775],\n",
      "        [0.0819],\n",
      "        [0.0801],\n",
      "        [0.0850],\n",
      "        [0.0859],\n",
      "        [0.0955],\n",
      "        [0.0924],\n",
      "        [0.0996],\n",
      "        [0.0853],\n",
      "        [0.0882],\n",
      "        [0.0981],\n",
      "        [0.0899],\n",
      "        [0.0988],\n",
      "        [0.0895],\n",
      "        [0.0944]], device='cuda:0')\n",
      "tensor([-0.0025,  0.0694, -0.0017, -0.0002,  0.0003, -0.0005, -0.0016, -0.0022,\n",
      "        -0.0024, -0.0022, -0.0016, -0.0023, -0.0024,  0.0027,  0.0023, -0.0016,\n",
      "         0.0010,  0.0017, -0.0024, -0.0021,  0.0608, -0.0017,  0.0035, -0.0022,\n",
      "        -0.0016], device='cuda:0')\n"
     ]
    }
   ],
   "source": [
    "model.eval()\n",
    "\n",
    "correct = 0\n",
    "total = 0\n",
    "with torch.no_grad():\n",
    "        val_d = val_d.to(device)\n",
    "        val_d_c = val_d_c.to(device)\n",
    "\n",
    "        outputs = model(val_d)\n",
    "        print(outputs[0:25])\n",
    "        print(val_d_c[0:25])\n",
    "\n"
   ]
  },
  {
   "cell_type": "code",
   "execution_count": null,
   "id": "af10f8b7",
   "metadata": {},
   "outputs": [],
   "source": []
  },
  {
   "cell_type": "code",
   "execution_count": null,
   "id": "a04c3e70",
   "metadata": {},
   "outputs": [],
   "source": []
  }
 ],
 "metadata": {
  "kernelspec": {
   "display_name": "Python 3 (ipykernel)",
   "language": "python",
   "name": "python3"
  },
  "language_info": {
   "codemirror_mode": {
    "name": "ipython",
    "version": 3
   },
   "file_extension": ".py",
   "mimetype": "text/x-python",
   "name": "python",
   "nbconvert_exporter": "python",
   "pygments_lexer": "ipython3",
   "version": "3.8.11"
  }
 },
 "nbformat": 4,
 "nbformat_minor": 5
}
