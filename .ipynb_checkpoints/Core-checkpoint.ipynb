{
 "cells": [
  {
   "cell_type": "code",
   "execution_count": 102,
   "id": "efbb2966",
   "metadata": {
    "scrolled": true
   },
   "outputs": [],
   "source": [
    "import pandas as pd\n",
    "\n",
    "df = pd.read_csv(\"Gemini_BTCUSD_1hr.csv\", skiprows=1)"
   ]
  },
  {
   "cell_type": "code",
   "execution_count": 103,
   "id": "56c019ab",
   "metadata": {},
   "outputs": [
    {
     "data": {
      "text/html": [
       "<div>\n",
       "<style scoped>\n",
       "    .dataframe tbody tr th:only-of-type {\n",
       "        vertical-align: middle;\n",
       "    }\n",
       "\n",
       "    .dataframe tbody tr th {\n",
       "        vertical-align: top;\n",
       "    }\n",
       "\n",
       "    .dataframe thead th {\n",
       "        text-align: right;\n",
       "    }\n",
       "</style>\n",
       "<table border=\"1\" class=\"dataframe\">\n",
       "  <thead>\n",
       "    <tr style=\"text-align: right;\">\n",
       "      <th></th>\n",
       "      <th>Unix Timestamp</th>\n",
       "      <th>Date</th>\n",
       "      <th>Symbol</th>\n",
       "      <th>Open</th>\n",
       "      <th>High</th>\n",
       "      <th>Low</th>\n",
       "      <th>Close</th>\n",
       "      <th>Volume</th>\n",
       "    </tr>\n",
       "  </thead>\n",
       "  <tbody>\n",
       "    <tr>\n",
       "      <th>0</th>\n",
       "      <td>1647226800000</td>\n",
       "      <td>2022-03-14 03:00:00</td>\n",
       "      <td>BTCUSD</td>\n",
       "      <td>38055.23</td>\n",
       "      <td>38073.96</td>\n",
       "      <td>38023.12</td>\n",
       "      <td>38060.13</td>\n",
       "      <td>0.868827</td>\n",
       "    </tr>\n",
       "    <tr>\n",
       "      <th>1</th>\n",
       "      <td>1647223200000</td>\n",
       "      <td>2022-03-14 02:00:00</td>\n",
       "      <td>BTCUSD</td>\n",
       "      <td>38076.24</td>\n",
       "      <td>38186.59</td>\n",
       "      <td>38009.17</td>\n",
       "      <td>38055.23</td>\n",
       "      <td>10.429404</td>\n",
       "    </tr>\n",
       "    <tr>\n",
       "      <th>2</th>\n",
       "      <td>1647219600000</td>\n",
       "      <td>2022-03-14 01:00:00</td>\n",
       "      <td>BTCUSD</td>\n",
       "      <td>37850.60</td>\n",
       "      <td>38348.52</td>\n",
       "      <td>37850.60</td>\n",
       "      <td>38076.24</td>\n",
       "      <td>62.900385</td>\n",
       "    </tr>\n",
       "    <tr>\n",
       "      <th>3</th>\n",
       "      <td>1647216000000</td>\n",
       "      <td>2022-03-14 00:00:00</td>\n",
       "      <td>BTCUSD</td>\n",
       "      <td>37791.31</td>\n",
       "      <td>37886.84</td>\n",
       "      <td>37578.09</td>\n",
       "      <td>37850.60</td>\n",
       "      <td>45.794943</td>\n",
       "    </tr>\n",
       "    <tr>\n",
       "      <th>4</th>\n",
       "      <td>1647212400000</td>\n",
       "      <td>2022-03-13 23:00:00</td>\n",
       "      <td>BTCUSD</td>\n",
       "      <td>37748.40</td>\n",
       "      <td>37905.78</td>\n",
       "      <td>37599.00</td>\n",
       "      <td>37791.31</td>\n",
       "      <td>46.112435</td>\n",
       "    </tr>\n",
       "  </tbody>\n",
       "</table>\n",
       "</div>"
      ],
      "text/plain": [
       "   Unix Timestamp                 Date  Symbol      Open      High       Low  \\\n",
       "0   1647226800000  2022-03-14 03:00:00  BTCUSD  38055.23  38073.96  38023.12   \n",
       "1   1647223200000  2022-03-14 02:00:00  BTCUSD  38076.24  38186.59  38009.17   \n",
       "2   1647219600000  2022-03-14 01:00:00  BTCUSD  37850.60  38348.52  37850.60   \n",
       "3   1647216000000  2022-03-14 00:00:00  BTCUSD  37791.31  37886.84  37578.09   \n",
       "4   1647212400000  2022-03-13 23:00:00  BTCUSD  37748.40  37905.78  37599.00   \n",
       "\n",
       "      Close     Volume  \n",
       "0  38060.13   0.868827  \n",
       "1  38055.23  10.429404  \n",
       "2  38076.24  62.900385  \n",
       "3  37850.60  45.794943  \n",
       "4  37791.31  46.112435  "
      ]
     },
     "execution_count": 103,
     "metadata": {},
     "output_type": "execute_result"
    }
   ],
   "source": [
    "df.head()"
   ]
  },
  {
   "cell_type": "code",
   "execution_count": 104,
   "id": "fc14f36e",
   "metadata": {},
   "outputs": [],
   "source": [
    "import numpy as np\n",
    "#(max'-min')/(max-min)*(value-max)+max'\n",
    "\n",
    "\n",
    "data = df.to_numpy(na_value=35000)\n",
    "\n",
    "print(data.size)\n",
    "print(data[0][0])\n",
    "max_iter = len(df) \n",
    "for k in range(3, 7):\n",
    "    if k == 6:\n",
    "        continue\n",
    "    max_val = -1\n",
    "    min_val = 9999999\n",
    "    for i in range(max_iter):\n",
    "        val = data[i - 1][k]\n",
    "        if val > max_val:\n",
    "            max_val = val\n",
    "        if val < max_val:\n",
    "            min_val = val\n",
    "    for i in range(max_iter):\n",
    "        data[i][k] = float(1/(max_val - min_val) * (data[i][k] - max_val) + 1)\n",
    "    print(data[2][k])\n",
    "    \n",
    "print(data[2][5])"
   ]
  },
  {
   "cell_type": "code",
   "execution_count": 105,
   "id": "8f1a4f0e",
   "metadata": {},
   "outputs": [
    {
     "name": "stdout",
     "output_type": "stream",
     "text": [
      "[38060.13 38055.23 38076.24 ... 244.92 245.0 245.0]\n"
     ]
    }
   ],
   "source": [
    "data_c = data[:, 6]\n",
    "print(data_c)"
   ]
  },
  {
   "cell_type": "code",
   "execution_count": 106,
   "id": "381ad113",
   "metadata": {},
   "outputs": [],
   "source": [
    "\n",
    "data = np.delete(data, 0, axis=1)\n",
    "data = np.delete(data, 0, axis=1)\n",
    "data = np.delete(data, 0, axis=1)\n"
   ]
  },
  {
   "cell_type": "code",
   "execution_count": 107,
   "id": "ac87ec82",
   "metadata": {},
   "outputs": [],
   "source": [
    "#data = data[0:10000]"
   ]
  },
  {
   "cell_type": "code",
   "execution_count": null,
   "id": "52615c1e",
   "metadata": {},
   "outputs": [],
   "source": []
  },
  {
   "cell_type": "code",
   "execution_count": 108,
   "id": "5095fd07",
   "metadata": {},
   "outputs": [],
   "source": [
    "data = np.delete(data, 3, axis=1)"
   ]
  },
  {
   "cell_type": "code",
   "execution_count": 109,
   "id": "0ca6fe40",
   "metadata": {},
   "outputs": [
    {
     "name": "stdout",
     "output_type": "stream",
     "text": [
      "[38933.87 39191.7 38893.17 16.11749363]\n",
      "38186.59\n",
      "[38060.13 38055.23 38076.24 ... 244.92 245.0 245.0]\n",
      "tensor([38060.1289, 38055.2305, 38076.2383,  ...,   244.9200,   245.0000,\n",
      "          245.0000])\n"
     ]
    }
   ],
   "source": [
    "import torch\n",
    "#print(type(data[2][4]))\n",
    "\n",
    "print(data[10])\n",
    "print(data[1][1])\n",
    "print(data_c)\n",
    "d_t = torch.from_numpy(data.astype(np.float32))\n",
    "d_c = torch.from_numpy(data_c.astype(np.float32))\n",
    "d_c.shape\n",
    "print(d_c)"
   ]
  },
  {
   "cell_type": "code",
   "execution_count": null,
   "id": "16de46e7",
   "metadata": {},
   "outputs": [],
   "source": []
  },
  {
   "cell_type": "code",
   "execution_count": 110,
   "id": "abd814f4",
   "metadata": {},
   "outputs": [],
   "source": [
    "n_samples = d_t.shape[0]\n",
    "n_val = int(.2 * n_samples)\n",
    "shuffled_indices = torch.randperm(n_samples).numpy()\n",
    "train_indices = shuffled_indices[:-n_val]\n",
    "val_indices = shuffled_indices[-n_val:]"
   ]
  },
  {
   "cell_type": "code",
   "execution_count": 111,
   "id": "be4d59f9",
   "metadata": {},
   "outputs": [],
   "source": [
    "train_d = d_t[train_indices]\n",
    "train_d_c = d_c[train_indices]\n",
    "seq_length = 4\n",
    "val_d = d_t[val_indices]\n",
    "val_d_c = d_c[val_indices]"
   ]
  },
  {
   "cell_type": "code",
   "execution_count": 112,
   "id": "10390362",
   "metadata": {},
   "outputs": [],
   "source": [
    "from torch.utils.data import Dataset\n",
    "\n",
    "class SequenceDataset(Dataset):\n",
    "    def __init__(self, dataframe, target, features, sequence_length=5):\n",
    "       # self.features = features\n",
    "        #self.target = target\n",
    "        self.sequence_length = sequence_length\n",
    "        self.y = target\n",
    "        self.X = features\n",
    "\n",
    "    def __len__(self):\n",
    "        return self.X.shape[0]\n",
    "\n",
    "    def __getitem__(self, i): \n",
    "        if i >= self.sequence_length - 1:\n",
    "            i_start = i - self.sequence_length + 1\n",
    "            x = self.X[i_start:(i + 1), :]\n",
    "        else:\n",
    "            padding = self.X[0].repeat(self.sequence_length - i - 1, 1)\n",
    "            x = self.X[0:(i + 1), :]\n",
    "            x = torch.cat((padding, x), 0)\n",
    "\n",
    "        return x, self.y[i]\n",
    "\n",
    "    "
   ]
  },
  {
   "cell_type": "code",
   "execution_count": 113,
   "id": "0adde20c",
   "metadata": {},
   "outputs": [
    {
     "name": "stdout",
     "output_type": "stream",
     "text": [
      "tensor([ 8126.1499, 39487.3086,   428.6900,  ..., 49094.3008,  4030.0000,\n",
      "        58877.8398])\n",
      "tensor(8420.)\n"
     ]
    }
   ],
   "source": [
    "i = 27\n",
    "sequence_length = 60\n",
    "print(val_d_c)\n",
    "train_dataset = SequenceDataset(\n",
    "    train_d,\n",
    "    target=train_d_c,\n",
    "    features=train_d,\n",
    "    sequence_length=sequence_length\n",
    ")\n",
    "test_dataset = SequenceDataset(\n",
    "    val_d,\n",
    "    target=val_d_c,\n",
    "    features=val_d,\n",
    "    sequence_length=sequence_length\n",
    ")\n",
    "X, y = train_dataset[i]\n",
    "print(y)"
   ]
  },
  {
   "cell_type": "code",
   "execution_count": 114,
   "id": "7c3a4544",
   "metadata": {},
   "outputs": [],
   "source": [
    "from torch.utils.data import DataLoader\n",
    "torch.manual_seed(99)\n",
    "\n",
    "train_loader = DataLoader(train_dataset, batch_size=128, shuffle=True)\n",
    "test_loader = DataLoader(test_dataset, batch_size=128, shuffle=False)"
   ]
  },
  {
   "cell_type": "code",
   "execution_count": 115,
   "id": "f8c71801",
   "metadata": {},
   "outputs": [],
   "source": [
    "from torch import nn\n",
    "device = torch.device('cuda:0')\n",
    "class ShallowRegressionLSTM(nn.Module):\n",
    "    def __init__(self, num_sensors, hidden_units):\n",
    "        super().__init__()\n",
    "        self.num_sensors = num_sensors  # this is the number of features\n",
    "        self.hidden_units = hidden_units\n",
    "        self.num_layers = 1\n",
    "\n",
    "        self.lstm = nn.LSTM(\n",
    "            input_size=num_sensors,\n",
    "            hidden_size=hidden_units,\n",
    "            batch_first=True,\n",
    "            num_layers=self.num_layers\n",
    "        )\n",
    "\n",
    "        self.linear = nn.Linear(in_features=self.hidden_units, out_features=1)\n",
    "\n",
    "    def forward(self, x):\n",
    "        batch_size = x.shape[0]\n",
    "        h0 = torch.zeros(self.num_layers, batch_size, self.hidden_units).requires_grad_()\n",
    "        c0 = torch.zeros(self.num_layers, batch_size, self.hidden_units).requires_grad_()\n",
    "\n",
    "        _, (hn, _) = self.lstm(x, (h0.to(device), c0.to(device)))\n",
    "        out = self.linear(hn[0]).flatten()  # First dim of Hn is num_layers, which is set to 1 above.\n",
    "\n",
    "        return out"
   ]
  },
  {
   "cell_type": "code",
   "execution_count": 116,
   "id": "a1c9ef24",
   "metadata": {},
   "outputs": [
    {
     "name": "stdout",
     "output_type": "stream",
     "text": [
      "done\n"
     ]
    }
   ],
   "source": [
    "learning_rate = 1e-4\n",
    "num_hidden_units = 16\n",
    "\n",
    "model = ShallowRegressionLSTM(num_sensors=4, hidden_units=num_hidden_units)\n",
    "loss_function = nn.MSELoss()\n",
    "optimizer = torch.optim.Adam(model.parameters(), lr=learning_rate)\n",
    "print('done')"
   ]
  },
  {
   "cell_type": "code",
   "execution_count": 119,
   "id": "aba9875d",
   "metadata": {},
   "outputs": [
    {
     "name": "stdout",
     "output_type": "stream",
     "text": [
      "True\n",
      "Epoch: 0, Loss: 445141280.000000\n",
      "Epoch: 1, Loss: 961471040.000000\n",
      "Epoch: 2, Loss: 242153936.000000\n",
      "Epoch: 3, Loss: 591309248.000000\n",
      "Epoch: 4, Loss: 588216064.000000\n",
      "Epoch: 5, Loss: 376858368.000000\n",
      "Epoch: 6, Loss: 431163104.000000\n",
      "Epoch: 7, Loss: 611583936.000000\n",
      "Epoch: 8, Loss: 552578688.000000\n",
      "Epoch: 9, Loss: 366579008.000000\n",
      "Epoch: 10, Loss: 524777920.000000\n",
      "Epoch: 11, Loss: 592676352.000000\n",
      "Epoch: 12, Loss: 671352128.000000\n",
      "Epoch: 13, Loss: 456253344.000000\n",
      "Epoch: 14, Loss: 363682464.000000\n",
      "Epoch: 15, Loss: 354918688.000000\n",
      "Epoch: 16, Loss: 527134720.000000\n",
      "Epoch: 17, Loss: 407356992.000000\n",
      "Epoch: 18, Loss: 461302848.000000\n",
      "Epoch: 19, Loss: 477014400.000000\n",
      "Epoch: 20, Loss: 595451328.000000\n",
      "Epoch: 21, Loss: 445706144.000000\n",
      "Epoch: 22, Loss: 262693152.000000\n",
      "Epoch: 23, Loss: 349245056.000000\n",
      "Epoch: 24, Loss: 455076864.000000\n",
      "Epoch: 25, Loss: 361098144.000000\n",
      "Epoch: 26, Loss: 788255872.000000\n",
      "Epoch: 27, Loss: 729857664.000000\n",
      "Epoch: 28, Loss: 319252640.000000\n",
      "Epoch: 29, Loss: 629505152.000000\n",
      "Epoch: 30, Loss: 651428864.000000\n",
      "Epoch: 31, Loss: 372108768.000000\n",
      "Epoch: 32, Loss: 521499584.000000\n",
      "Epoch: 33, Loss: 333408192.000000\n",
      "Epoch: 34, Loss: 146902128.000000\n",
      "Epoch: 35, Loss: 337371872.000000\n",
      "Epoch: 36, Loss: 472397216.000000\n",
      "Epoch: 37, Loss: 323411008.000000\n",
      "Epoch: 38, Loss: 280090912.000000\n",
      "Epoch: 39, Loss: 396446592.000000\n",
      "Epoch: 40, Loss: 734557888.000000\n",
      "Epoch: 41, Loss: 338427328.000000\n",
      "Epoch: 42, Loss: 560880960.000000\n",
      "Epoch: 43, Loss: 446147200.000000\n",
      "Epoch: 44, Loss: 244958944.000000\n",
      "Epoch: 45, Loss: 580071424.000000\n",
      "Epoch: 46, Loss: 297392832.000000\n",
      "Epoch: 47, Loss: 445618432.000000\n",
      "Epoch: 48, Loss: 538143872.000000\n",
      "Epoch: 49, Loss: 314354912.000000\n",
      "59.639702558517456\n"
     ]
    }
   ],
   "source": [
    "import torch.nn as nn\n",
    "import torch.optim as optim\n",
    "print(torch.cuda.is_available())\n",
    "import time\n",
    "device = torch.device('cuda:0')\n",
    "kwargs = {'num_workers': 1, 'pin_memory': True}\n",
    "#model = nn.Sequential(nn.Linear(4, 512), nn.Tanh(), nn.Linear(512, 256), nn.Tanh(), nn.Linear(256, 1))\n",
    "model.to(device)\n",
    "loss_fn = nn.MSELoss()\n",
    "n_epochs = 50\n",
    "\n",
    "start = time.time()\n",
    "model.train()\n",
    "for epoch in range(n_epochs):\n",
    "    for X, y in train_loader:\n",
    "        train_d = X.to(device)\n",
    "        train_d_c = y.to(device)\n",
    "\n",
    "        outputs = model(train_d)\n",
    "        loss = loss_fn(outputs, train_d_c)\n",
    "\n",
    "        \n",
    "        optimizer.zero_grad()\n",
    "        loss.backward()\n",
    "        optimizer.step()\n",
    "    print(\"Epoch: %d, Loss: %f\" % (epoch, float(loss)))\n",
    "end = time.time()\n",
    "print(end - start)"
   ]
  },
  {
   "cell_type": "code",
   "execution_count": 120,
   "id": "c9d079a2",
   "metadata": {},
   "outputs": [
    {
     "name": "stdout",
     "output_type": "stream",
     "text": [
      "tensor(0.0128, device='cuda:0')\n"
     ]
    }
   ],
   "source": [
    "model.eval()\n",
    "\n",
    "with torch.no_grad():\n",
    "    for X, y in test_loader:\n",
    "        val_d = X.to(device) \n",
    "        val_d_c = y.to(device)\n",
    "\n",
    "        outputs = model(val_d)\n",
    "\n",
    "    k = 0\n",
    "    ttl = 0\n",
    "    for i in range(len(outputs)):\n",
    "        #print(outputs[i]/val_d_c[i])\n",
    "        #print(\"\\n\")\n",
    "        ttl += outputs[i]/val_d_c[i]\n",
    "        k+=1\n",
    "    print(ttl/k)"
   ]
  },
  {
   "cell_type": "code",
   "execution_count": null,
   "id": "68e8d658",
   "metadata": {},
   "outputs": [],
   "source": []
  },
  {
   "cell_type": "code",
   "execution_count": null,
   "id": "428790ae",
   "metadata": {},
   "outputs": [],
   "source": []
  },
  {
   "cell_type": "code",
   "execution_count": null,
   "id": "e2150dce",
   "metadata": {},
   "outputs": [],
   "source": []
  }
 ],
 "metadata": {
  "kernelspec": {
   "display_name": "Python 3 (ipykernel)",
   "language": "python",
   "name": "python3"
  },
  "language_info": {
   "codemirror_mode": {
    "name": "ipython",
    "version": 3
   },
   "file_extension": ".py",
   "mimetype": "text/x-python",
   "name": "python",
   "nbconvert_exporter": "python",
   "pygments_lexer": "ipython3",
   "version": "3.8.11"
  }
 },
 "nbformat": 4,
 "nbformat_minor": 5
}
